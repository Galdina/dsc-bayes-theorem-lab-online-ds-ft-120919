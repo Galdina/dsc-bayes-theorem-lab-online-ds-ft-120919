{
 "cells": [
  {
   "cell_type": "markdown",
   "metadata": {},
   "source": [
    "# Bayes' Theorem - Lab\n",
    "\n",
    "## Introduction\n",
    "\n",
    "In this lab, you'll practice Bayes' Theorem in some simple word problems. \n",
    "\n",
    "## Objectives\n",
    "In this lab you will be able to: \n",
    "\n",
    "- Use Bayes' theorem to determine the probability of specific events "
   ]
  },
  {
   "cell_type": "markdown",
   "metadata": {},
   "source": [
    "## Define a custom function for Bayes' theorem\n",
    "\n",
    "To start, write a function, `bayes()`, which takes in the probability of A, the probability of B, and the probability of B given A. From this, the function should then return the conditional probability of A, given that B is true."
   ]
  },
  {
   "cell_type": "code",
   "execution_count": 2,
   "metadata": {},
   "outputs": [],
   "source": [
    "def bayes(P_a, P_b, P_b_given_a):\n",
    "    # the likelihood of event A occurring given that B is true.\n",
    "    P_bayes = (P_b_given_a * P_a)/P_b\n",
    "    return P_bayes"
   ]
  },
  {
   "cell_type": "markdown",
   "metadata": {},
   "source": [
    "## Skin Cancer\n",
    "\n",
    "After a physical exam, a doctor observes a blemish on a client's arm. The doctor is concerned that the blemish could be cancerous, but tells the patient to be calm and that it's probably benign. Of those with skin cancer, 100% have such blemishes. However, 20% of those without skin cancer also have such blemishes. If 15% of the population has skin cancer, what's the probability that this patient has skin cancer? \n",
    "\n",
    "> Hint: Be sure to calculate the overall rate of blemishes across the entire population."
   ]
  },
  {
   "cell_type": "code",
   "execution_count": 5,
   "metadata": {},
   "outputs": [
    {
     "name": "stdout",
     "output_type": "stream",
     "text": [
      "0.46875\n"
     ]
    }
   ],
   "source": [
    "#  P(A|B) = (P(B|A)*P(A))/P(B)\n",
    "# P(A) - probability of skin cancer \n",
    "# P(B) - probability of blemish\n",
    "P_a = 1 # P(A)=100% - all people with skin cancer has cancer\n",
    "# P(B) = probability of blemish for people with cancer +\n",
    "#        + probability of blemish for population without cancer\n",
    "# P(B) = 15% * population with skin cancer \n",
    "#        + 20% * (all population - population with skin cancer )\n",
    "P_b = 1*.15 + .85*.2\n",
    "# P(A|B) = probability that skin cancer if patient has blemish\n",
    "P_cancer_given_blemish = bayes(.15, P_b, 1)\n",
    "print(P_cancer_given_blemish)"
   ]
  },
  {
   "cell_type": "markdown",
   "metadata": {},
   "source": [
    "## Children (I) \n",
    "\n",
    "A couple has two children, the older of which is a boy. What is the probability that they have two boys?"
   ]
  },
  {
   "cell_type": "code",
   "execution_count": 6,
   "metadata": {},
   "outputs": [
    {
     "name": "stdout",
     "output_type": "stream",
     "text": [
      "0.5\n"
     ]
    }
   ],
   "source": [
    "# Your solution P(2boys|older child is a boy)\n",
    "# P(A|B) = (P(B|A)*P(A))/P(B)\n",
    "# P(A) = P(2boys) = Probability of 2 boys \n",
    "#      - we can have MM, MF, FM, FF - 4 variant\n",
    "P_a = 1/4\n",
    "# P(B) = P(older child is a boy) = Probability older child is a boy \n",
    "#      - the same:  MM, MF, FM, FF - 2 variant\n",
    "P_b = 1/2 \n",
    "# P(B|A) = Probability older child is a boy if 2 boys\n",
    "P_b_given_a = 1  \n",
    "P_a_given_b = bayes(P_a, P_b, P_b_given_a)\n",
    "print (P_a_given_b)"
   ]
  },
  {
   "cell_type": "markdown",
   "metadata": {},
   "source": [
    "## Children  (II)\n",
    "\n",
    "A couple has two children, one of which is a boy. What is the probability that they have two boys?"
   ]
  },
  {
   "cell_type": "code",
   "execution_count": 7,
   "metadata": {},
   "outputs": [
    {
     "name": "stdout",
     "output_type": "stream",
     "text": [
      "0.3333333333333333\n"
     ]
    }
   ],
   "source": [
    "# Your solution P(2boys|1 of 2 children is a boy)\n",
    "# P(A|B) = (P(B|A)*P(A))/P(B)\n",
    "# P(A) = P(2boys) = Probability of 2 boys  \n",
    "#      - we can have MM, MF, FM, FF - 4 variant\n",
    "P_a = 1/4 \n",
    "# P(B) = P(1 of 2 children is a boy) = Probability 1 of 2 children is a boy\n",
    "#      - the same:  MM, MF, FM, FF - 3 variant \n",
    "P_b = 3/4 \n",
    "# P(B|A) = Probability of 1 of 2 children being a boy, given both are boys\n",
    "P_b_given_a  = 1 \n",
    "P_a_given_b = bayes(P_a, P_b, P_b_given_a)\n",
    "print(P_a_given_b)"
   ]
  },
  {
   "cell_type": "markdown",
   "metadata": {},
   "source": [
    "## A diagnostic test\n",
    "\n",
    "A diagnostic test is advertised as being 99% accurate \n",
    "\n",
    "* If a patient has the disease, they  will test positive 99% of the time \n",
    "\n",
    "* If they don't have the disease, they will test negative 99% of the time  \n",
    "\n",
    "* 1% of all people have this disease \n",
    "\n",
    "If a patient tests positive, what is the probability that they actually have the disease?"
   ]
  },
  {
   "cell_type": "code",
   "execution_count": 8,
   "metadata": {},
   "outputs": [
    {
     "name": "stdout",
     "output_type": "stream",
     "text": [
      "0.5\n"
     ]
    }
   ],
   "source": [
    "# Your solution P(Disease | positive test)\n",
    "# P(A|B) = (P(B|A)*P(A))/P(B)\n",
    "# P(A) = P(Disease) = Probability of disease \n",
    "#      - 1% of all people have this disease\n",
    "P_a = 1/100 \n",
    "# P(B) = P(positive test) = Probability of testing positive\n",
    "#      - 1% of all people have this disease + \n",
    "#         + if a patient has the disease, they will test positive 99% of the time \n",
    "P_b = (0.01*0.99) + (0.99 *0.01) \n",
    "# P(B|A) = Probability of testing positive given diseas -\n",
    "# If a patient has the disease, they will test positive 99% of the time\n",
    "P_b_given_a = 99/100\n",
    "\n",
    "P_a_given_b = bayes(P_a, P_b, P_b_given_a)\n",
    "print(P_a_given_b)"
   ]
  },
  {
   "cell_type": "markdown",
   "metadata": {},
   "source": [
    "## Summary \n",
    "\n",
    "In this lab, you practiced a few simple examples of Bayesian logic and how you can add prior information to update your beliefs about the chance of events."
   ]
  }
 ],
 "metadata": {
  "kernelspec": {
   "display_name": "Python 3",
   "language": "python",
   "name": "python3"
  },
  "language_info": {
   "codemirror_mode": {
    "name": "ipython",
    "version": 3
   },
   "file_extension": ".py",
   "mimetype": "text/x-python",
   "name": "python",
   "nbconvert_exporter": "python",
   "pygments_lexer": "ipython3",
   "version": "3.7.4"
  }
 },
 "nbformat": 4,
 "nbformat_minor": 2
}
